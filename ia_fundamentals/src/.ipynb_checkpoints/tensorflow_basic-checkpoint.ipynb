{
 "cells": [
  {
   "cell_type": "code",
   "execution_count": 2,
   "metadata": {},
   "outputs": [],
   "source": [
    "## import tensorflow as tf  #Example from book based on previous version\n",
    "import tensorflow.compat.v1 as tf\n",
    "tf.disable_v2_behavior()"
   ]
  },
  {
   "cell_type": "code",
   "execution_count": 3,
   "metadata": {},
   "outputs": [],
   "source": [
    "input1 = tf.constant(2.0, tf.float32, name='input1')\n",
    "input2 = tf.constant(3.0, tf.float32, name='input2')\n",
    "input3 = tf.constant(4.0, tf.float32, name='input3')\n",
    "\n",
    "product1 = tf.multiply(input1, input2)\n",
    "sum1 = tf.add(product1, input3)"
   ]
  },
  {
   "cell_type": "code",
   "execution_count": 4,
   "metadata": {},
   "outputs": [
    {
     "name": "stdout",
     "output_type": "stream",
     "text": [
      "2.0\n",
      "6.0\n",
      "10.0\n"
     ]
    }
   ],
   "source": [
    "with tf.Session() as session:\n",
    "    print(session.run(input1))\n",
    "    print(session.run(product1))\n",
    "    print(session.run(sum1))"
   ]
  },
  {
   "cell_type": "code",
   "execution_count": 5,
   "metadata": {},
   "outputs": [],
   "source": [
    "ph1 = tf.placeholder(tf.float32, name='p')\n",
    "var_x = tf.Variable(0.0, tf.float32, name='x')\n",
    "\n",
    "product2 = tf.multiply(input1, ph1)\n",
    "sum2 = tf.add(product2, var_x)"
   ]
  },
  {
   "cell_type": "code",
   "execution_count": 11,
   "metadata": {},
   "outputs": [
    {
     "name": "stdout",
     "output_type": "stream",
     "text": [
      "6.0\n",
      "0.0\n"
     ]
    }
   ],
   "source": [
    "with tf.Session() as session:\n",
    "    initializer = tf.global_variables_initializer()\n",
    "    session.run(initializer)\n",
    "    result = session.run(sum2, feed_dict={ph1: 3.0})\n",
    "    var_val = session.run(var_x)\n",
    "    print(result)\n",
    "    print(var_val)"
   ]
  },
  {
   "cell_type": "code",
   "execution_count": 6,
   "metadata": {},
   "outputs": [
    {
     "name": "stdout",
     "output_type": "stream",
     "text": [
      "<tf.Variable 'Variable:0' shape=(3, 4) dtype=float32_ref>\n"
     ]
    }
   ],
   "source": [
    "randomMatrix = tf.Variable(tf.random_normal([3,4]))\n",
    "print(randomMatrix)"
   ]
  },
  {
   "cell_type": "code",
   "execution_count": 50,
   "metadata": {},
   "outputs": [
    {
     "name": "stdout",
     "output_type": "stream",
     "text": [
      "[[ 0.1545718   0.07994957  0.15511243 -0.95829093]\n",
      " [ 0.05332603 -0.9528745  -0.8300456   0.04076337]\n",
      " [-1.0236613  -1.7985119   0.908768    1.9001708 ]]\n"
     ]
    }
   ],
   "source": [
    "with tf.Session() as session:\n",
    "    initializer = tf.global_variables_initializer()\n",
    "    session.run(initializer)\n",
    "    print( session.run(randomMatrix))"
   ]
  }
 ],
 "metadata": {
  "kernelspec": {
   "display_name": "Python 3",
   "language": "python",
   "name": "python3"
  },
  "language_info": {
   "codemirror_mode": {
    "name": "ipython",
    "version": 3
   },
   "file_extension": ".py",
   "mimetype": "text/x-python",
   "name": "python",
   "nbconvert_exporter": "python",
   "pygments_lexer": "ipython3",
   "version": "3.7.5"
  }
 },
 "nbformat": 4,
 "nbformat_minor": 4
}
