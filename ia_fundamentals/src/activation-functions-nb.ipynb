{
 "cells": [
  {
   "cell_type": "code",
   "execution_count": 1,
   "metadata": {},
   "outputs": [
    {
     "name": "stdout",
     "output_type": "stream",
     "text": [
      "WARNING:tensorflow:From /home/rodrigo/projects/Labs/personal-labs/ia_fundamentals/ENV/lib/python3.7/site-packages/tensorflow_core/python/compat/v2_compat.py:88: disable_resource_variables (from tensorflow.python.ops.variable_scope) is deprecated and will be removed in a future version.\n",
      "Instructions for updating:\n",
      "non-resource variables are not supported in the long term\n"
     ]
    }
   ],
   "source": [
    "import numpy as np\n",
    "import matplotlib.pylab as plt\n",
    "\n",
    "## import tensorflow as tf  #Example from book based on previous version\n",
    "import tensorflow.compat.v1 as tf\n",
    "tf.disable_v2_behavior()"
   ]
  },
  {
   "cell_type": "code",
   "execution_count": 18,
   "metadata": {},
   "outputs": [],
   "source": [
    "def sigmoid(x):\n",
    "    return 1 / (1 + np.e ** (-x))\n",
    "\n",
    "def tanh(x):\n",
    "    return 2 / (1 + np.e ** (-2*x)) - 1\n",
    "\n",
    "def relu(x):\n",
    "    return 0 if x < 0 else x\n",
    "\n",
    "def reluArr(arr):\n",
    "    return [relu(x) for x in arr]\n",
    "\n",
    "def softmax(list):\n",
    "    return np.exp(list) / np.sum(np.exp(list))"
   ]
  },
  {
   "cell_type": "code",
   "execution_count": 17,
   "metadata": {},
   "outputs": [
    {
     "data": {
      "image/png": "[encoded data removed]",
      "text/plain": [
       "<Figure size 432x288 with 1 Axes>"
      ]
     },
     "metadata": {
      "needs_background": "light"
     },
     "output_type": "display_data"
    }
   ],
   "source": [
    "x = np.arange(-10, 10, 0.1)\n",
    "short_x = np.arange(-10, 2.5, 0.1)\n",
    "plt.plot(x, sigmoid(x))\n",
    "plt.plot(x, tanh(x))\n",
    "plt.plot(short_x, reluArr(short_x))\n",
    "plt.show()"
   ]
  },
  {
   "cell_type": "code",
   "execution_count": 19,
   "metadata": {},
   "outputs": [],
   "source": [
    "# Exercise 23: Activation Functions\n",
    "# Consider the following neural network:\n",
    "# y = f( 2 * x1 + 0.5 * x2 + 1.5 * x3 - 3 ).\n",
    "# Assuming x1 is 1 and x2 is 2, calculate the value of y for the following x values: -1, 0, 1, 2, when:\n",
    "# f is the sigmoid function\n",
    "# f is the tanh function\n",
    "# f is the ReLU function"
   ]
  },
  {
   "cell_type": "code",
   "execution_count": 21,
   "metadata": {},
   "outputs": [],
   "source": [
    "def get_y(f, x1 = 1, x2 = 2, x3 = 0):\n",
    "    return f(2 * x1 + 0.5 * x2 + 1.5 * x3)"
   ]
  },
  {
   "cell_type": "code",
   "execution_count": 28,
   "metadata": {},
   "outputs": [
    {
     "name": "stdout",
     "output_type": "stream",
     "text": [
      "[0.5, 0.8175744761936437, 0.9525741268224331, 0.9890130573694068, 0.9975273768433653]\n"
     ]
    },
    {
     "data": {
      "text/plain": [
       "[]"
      ]
     },
     "execution_count": 28,
     "metadata": {},
     "output_type": "execute_result"
    },
    {
     "data": {
      "image/png": "[encoded data removed]",
      "text/plain": [
       "<Figure size 432x288 with 1 Axes>"
      ]
     },
     "metadata": {
      "needs_background": "light"
     },
     "output_type": "display_data"
    }
   ],
   "source": [
    "xs = [-2, -1, 0, 1, 2]\n",
    "\n",
    "sigmoid_result = [get_y(sigmoid, x3=x3) for x3 in xs]\n",
    "print(sigmoid_result)\n",
    "\n",
    "plt.scatter(xs, sigmoid_result)\n",
    "plt.plot()"
   ]
  },
  {
   "cell_type": "code",
   "execution_count": 29,
   "metadata": {},
   "outputs": [
    {
     "name": "stdout",
     "output_type": "stream",
     "text": [
      "[0.0, 0.9051482536448663, 0.9950547536867307, 0.9997532108480274, 0.9999877116507956]\n"
     ]
    },
    {
     "data": {
      "text/plain": [
       "[]"
      ]
     },
     "execution_count": 29,
     "metadata": {},
     "output_type": "execute_result"
    },
    {
     "data": {
      "image/png": "[encoded data removed]",
      "text/plain": [
       "<Figure size 432x288 with 1 Axes>"
      ]
     },
     "metadata": {
      "needs_background": "light"
     },
     "output_type": "display_data"
    }
   ],
   "source": [
    "tanh_result = [get_y(tanh, x3=x3) for x3 in xs]\n",
    "print(tanh_result)\n",
    "\n",
    "plt.scatter(xs, tanh_result)\n",
    "plt.plot()"
   ]
  },
  {
   "cell_type": "code",
   "execution_count": 36,
   "metadata": {},
   "outputs": [
    {
     "name": "stdout",
     "output_type": "stream",
     "text": [
      "[0.0, 1.5, 3.0, 4.5, 6.0]\n"
     ]
    },
    {
     "data": {
      "text/plain": [
       "[]"
      ]
     },
     "execution_count": 36,
     "metadata": {},
     "output_type": "execute_result"
    },
    {
     "data": {
      "image/png": "[encoded data removed]",
      "text/plain": [
       "<Figure size 432x288 with 1 Axes>"
      ]
     },
     "metadata": {
      "needs_background": "light"
     },
     "output_type": "display_data"
    }
   ],
   "source": [
    "relu_result = [get_y(relu, x3=x3) for x3 in xs]\n",
    "print(relu_result)\n",
    "\n",
    "plt.scatter(xs, relu_result)\n",
    "plt.plot()"
   ]
  },
  {
   "cell_type": "code",
   "execution_count": null,
   "metadata": {},
   "outputs": [],
   "source": []
  }
 ],
 "metadata": {
  "kernelspec": {
   "display_name": "Python 3",
   "language": "python",
   "name": "python3"
  },
  "language_info": {
   "codemirror_mode": {
    "name": "ipython",
    "version": 3
   },
   "file_extension": ".py",
   "mimetype": "text/x-python",
   "name": "python",
   "nbconvert_exporter": "python",
   "pygments_lexer": "ipython3",
   "version": "3.7.5"
  }
 },
 "nbformat": 4,
 "nbformat_minor": 4
}
